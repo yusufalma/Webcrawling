{
 "cells": [
  {
   "cell_type": "markdown",
   "metadata": {},
   "source": [
    "# Webscraping\n",
    "by Alma Vita Sophia"
   ]
  },
  {
   "cell_type": "markdown",
   "metadata": {},
   "source": [
    "## webbrowser"
   ]
  },
  {
   "cell_type": "raw",
   "metadata": {},
   "source": [
    "webbrowser is built-in Python's module which opens a browser to a specific page.\n",
    "It can be considered as simple webscrapper."
   ]
  },
  {
   "cell_type": "code",
   "execution_count": null,
   "metadata": {},
   "outputs": [],
   "source": [
    "# load module\n",
    "import webbrowser"
   ]
  },
  {
   "cell_type": "code",
   "execution_count": null,
   "metadata": {
    "scrolled": false
   },
   "outputs": [],
   "source": [
    "# open a browser\n",
    "webbrowser.open('https://github.com/yusufalma')"
   ]
  },
  {
   "cell_type": "markdown",
   "metadata": {},
   "source": [
    "## requests"
   ]
  },
  {
   "cell_type": "markdown",
   "metadata": {},
   "source": [
    "requests is a Python's module which downloads files and web pages from the internet."
   ]
  },
  {
   "cell_type": "code",
   "execution_count": null,
   "metadata": {},
   "outputs": [],
   "source": [
    "# load module\n",
    "import requests"
   ]
  },
  {
   "cell_type": "code",
   "execution_count": null,
   "metadata": {},
   "outputs": [],
   "source": [
    "# load the file\n",
    "req = requests.get('https://raw.githubusercontent.com/yusufalma/Webcrawling/master/samplecv.txt')"
   ]
  },
  {
   "cell_type": "code",
   "execution_count": null,
   "metadata": {},
   "outputs": [],
   "source": [
    "# check webpage request status (True = success)\n",
    "req.status_code == requests.codes.ok"
   ]
  },
  {
   "cell_type": "code",
   "execution_count": null,
   "metadata": {},
   "outputs": [],
   "source": [
    "# count character\n",
    "len(req.text)"
   ]
  },
  {
   "cell_type": "code",
   "execution_count": null,
   "metadata": {},
   "outputs": [],
   "source": [
    "print(req.text[648:753]) #print certain character position"
   ]
  },
  {
   "cell_type": "code",
   "execution_count": null,
   "metadata": {},
   "outputs": [],
   "source": [
    "# save to local disk\n",
    "cvFile = open('sample.txt', 'wb')\n",
    "for chunk in res.iter_content(100000):\n",
    "    cvFile.write(chunk)\n",
    "cvFile.close()"
   ]
  },
  {
   "cell_type": "markdown",
   "metadata": {},
   "source": [
    "## Beautiful Soup"
   ]
  },
  {
   "cell_type": "markdown",
   "metadata": {},
   "source": [
    "bs4 or Beautiful Soup is another Python's module which parses HTML and extracts information from it."
   ]
  },
  {
   "cell_type": "code",
   "execution_count": null,
   "metadata": {},
   "outputs": [],
   "source": [
    "# load module\n",
    "import bs4"
   ]
  },
  {
   "cell_type": "markdown",
   "metadata": {},
   "source": [
    "### extract from page in website"
   ]
  },
  {
   "cell_type": "code",
   "execution_count": null,
   "metadata": {},
   "outputs": [],
   "source": [
    "# load the main page website\n",
    "page = requests.get('https://armillary.io/')\n",
    "\n",
    "# check webpage request status (nothing = success)\n",
    "page.raise_for_status()\n",
    "\n",
    "# passes the text attribute to HTML parser\n",
    "pageSoup = bs4.BeautifulSoup(page.text, 'html.parser')\n",
    "\n",
    "# pull the element with <p> out of page\n",
    "idcontent = pageSoup.select('p')"
   ]
  },
  {
   "cell_type": "code",
   "execution_count": null,
   "metadata": {},
   "outputs": [],
   "source": [
    "# count content\n",
    "print(len(idcontent))"
   ]
  },
  {
   "cell_type": "code",
   "execution_count": null,
   "metadata": {},
   "outputs": [],
   "source": [
    "#return a string with the starting and closing tags and the element’s text\n",
    "print(str(idcontent[0]))"
   ]
  },
  {
   "cell_type": "code",
   "execution_count": null,
   "metadata": {},
   "outputs": [],
   "source": [
    "#return a string\n",
    "print(idcontent[0].getText())"
   ]
  },
  {
   "cell_type": "code",
   "execution_count": null,
   "metadata": {},
   "outputs": [],
   "source": [
    "# return dictionary with the element’s attribute and the value\n",
    "print(idcontent[0].attrs)"
   ]
  },
  {
   "cell_type": "markdown",
   "metadata": {},
   "source": [
    "### extract from file in local disk"
   ]
  },
  {
   "cell_type": "code",
   "execution_count": null,
   "metadata": {},
   "outputs": [],
   "source": [
    "# load sample file\n",
    "res = requests.get('https://raw.githubusercontent.com/yusufalma/Webcrawling/master/sample.html')\n",
    "\n",
    "# check webpage request status (nothing = success)\n",
    "res.raise_for_status()\n",
    "\n",
    "# save to local disk\n",
    "sample = open('sample.html', 'wb')\n",
    "for chunk in res.iter_content(100000):\n",
    "    sample.write(chunk)\n",
    "sample.close()\n",
    "\n",
    "# parse HTML from loaded file\n",
    "sampleFile = open('sample.html')\n",
    "sampleSoup = bs4.BeautifulSoup(sampleFile.read(), 'html.parser')\n",
    "\n",
    "# pull the element with id=\"author\" out of file\n",
    "elems = sampleSoup.select('#author')"
   ]
  },
  {
   "cell_type": "code",
   "execution_count": null,
   "metadata": {},
   "outputs": [],
   "source": [
    "# count content\n",
    "print(len(elems))"
   ]
  },
  {
   "cell_type": "code",
   "execution_count": null,
   "metadata": {},
   "outputs": [],
   "source": [
    "#return a string with the starting and closing tags and the element’s text\n",
    "print(str(elems[0]))"
   ]
  },
  {
   "cell_type": "code",
   "execution_count": null,
   "metadata": {},
   "outputs": [],
   "source": [
    "#return a string\n",
    "print(elems[0].getText())"
   ]
  },
  {
   "cell_type": "code",
   "execution_count": null,
   "metadata": {},
   "outputs": [],
   "source": [
    "# return dictionary with the element’s attribute and the value\n",
    "print(elems[0].attrs)"
   ]
  }
 ],
 "metadata": {
  "kernelspec": {
   "display_name": "Python 3",
   "language": "python",
   "name": "python3"
  },
  "language_info": {
   "codemirror_mode": {
    "name": "ipython",
    "version": 3
   },
   "file_extension": ".py",
   "mimetype": "text/x-python",
   "name": "python",
   "nbconvert_exporter": "python",
   "pygments_lexer": "ipython3",
   "version": "3.7.4"
  }
 },
 "nbformat": 4,
 "nbformat_minor": 2
}
